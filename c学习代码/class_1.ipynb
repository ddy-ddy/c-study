{
 "cells": [
  {
   "cell_type": "markdown",
   "metadata": {},
   "source": [
    "- [一、数据类型](#1)\n",
    "- [二、变量](#2)"
   ]
  },
  {
   "cell_type": "markdown",
   "metadata": {},
   "source": [
    "<a name='1'></a>\n",
    "一、数据类型\n",
    "- 基本类型：\n",
    "  - 整数类型: char, unsigned char, signed char, int, unsigned int, short, unsigned short, long, unsigned long\n",
    "  - 浮点类型: float, double, long double\n",
    "- 枚举类型\n",
    "- void类型\n",
    "- 派生类型：指针类型，数组类型，结构类型，共用体类型，函数类型"
   ]
  },
  {
   "cell_type": "code",
   "execution_count": 5,
   "metadata": {},
   "outputs": [
    {
     "name": "stdout",
     "output_type": "stream",
     "text": [
      "int 存储大小: 4 \n",
      "float 存储大小: 4 \n",
      "float 最大值: 3.402823E+38 \n"
     ]
    }
   ],
   "source": [
    "#include <stdio.h>\n",
    "#include <float.h>\n",
    "#include <limits.h>\n",
    "\n",
    "int main(){\n",
    "    printf(\"int 存储大小: %lu \\n\",sizeof(int));\n",
    "    printf(\"float 存储大小: %lu \\n\",sizeof(float));\n",
    "    printf(\"float 最大值: %E \\n\",FLT_MAX);\n",
    "    return 0;\n",
    "}"
   ]
  },
  {
   "cell_type": "markdown",
   "metadata": {},
   "source": [
    "<a name='2'></a>\n",
    "二、变量\n",
    "- 基本变量类型\n",
    "  - char: 8字节\n",
    "  - int: 4字节\n",
    "  - float: 单精度浮点值\n",
    "  - double：双精度浮点值\n",
    "  - void: 表示类型的缺失\n",
    "- 变量声明\n",
    "  - 一种是需要建立存储空间的 e.g., [int i;][声明也是定义]\n",
    "  - 使用extern关键词声明变量名而不定义它 e.g., [extern int i;][声明，不是定义]"
   ]
  },
  {
   "cell_type": "code",
   "execution_count": 7,
   "metadata": {},
   "outputs": [
    {
     "name": "stdout",
     "output_type": "stream",
     "text": [
      "result为: 3"
     ]
    }
   ],
   "source": [
    "#include <stdio.h>\n",
    "\n",
    "//函数外定义x和y\n",
    "int x;\n",
    "int y;\n",
    "int addtwonum(){\n",
    "    //函数内声明变量x和y为外部变量\n",
    "    extern int x;\n",
    "    extern int y;\n",
    "    //给外部变量x和y赋值\n",
    "    x=1;\n",
    "    y=2;\n",
    "    return x+y;\n",
    "}\n",
    "\n",
    "int main(){\n",
    "    int result;\n",
    "    result=addtwonum();\n",
    "    printf(\"result为: %d\",result);\n",
    "    return 0;\n",
    "}\n"
   ]
  },
  {
   "cell_type": "markdown",
   "metadata": {},
   "source": [
    "三、常量\n",
    "- 常量类型\n",
    "  - 整数常量\n",
    "  - 浮点常量\n",
    "  - 字符常量\n",
    "  - 字符串常量\n",
    "  - 枚举常量\n",
    "- 定义常量的方法\n",
    "  - #define预处理器\n",
    "  - const关键字"
   ]
  },
  {
   "cell_type": "code",
   "execution_count": 10,
   "metadata": {},
   "outputs": [
    {
     "name": "stdout",
     "output_type": "stream",
     "text": [
      "value of area: 50\n",
      "value of area_: 50\n"
     ]
    }
   ],
   "source": [
    "#include <stdio.h>\n",
    "\n",
    "#define LEGTH 10\n",
    "#define WIDTH 5\n",
    "#define NEWLINE '\\n'\n",
    "\n",
    "int main(){\n",
    "    int area;\n",
    "    area=LEGTH*WIDTH;\n",
    "    printf(\"value of area: %d\",area);\n",
    "    printf(\"%c\",NEWLINE);\n",
    "\n",
    "    const int length=10;\n",
    "    const int width=5;\n",
    "    const char newline='\\n';\n",
    "    int area_;\n",
    "    area_=length*width;\n",
    "    printf(\"value of area_: %d\",area_);\n",
    "    printf(\"%c\",newline);\n",
    "    return 0;\n",
    "}"
   ]
  },
  {
   "cell_type": "markdown",
   "metadata": {},
   "source": [
    "四、存储类\n",
    "- 存储类定义C程序中变量/函数的范围和生命周期\n",
    "- 类型\n",
    "  - auto: 所有局部变量默认的存储类\n",
    "  - register: 用于定义存储在寄存器中而不是RAM中的局部变量\n",
    "  - static\n",
    "  - extern: 用于提供一个全局变量的引用"
   ]
  },
  {
   "cell_type": "code",
   "execution_count": 12,
   "metadata": {},
   "outputs": [
    {
     "name": "stdout",
     "output_type": "stream",
     "text": [
      " thingy 为 6, count 为 9\n",
      " thingy 为 7, count 为 8\n",
      " thingy 为 8, count 为 7\n",
      " thingy 为 9, count 为 6\n",
      " thingy 为 10, count 为 5\n",
      " thingy 为 11, count 为 4\n",
      " thingy 为 12, count 为 3\n",
      " thingy 为 13, count 为 2\n",
      " thingy 为 14, count 为 1\n",
      " thingy 为 15, count 为 0\n"
     ]
    }
   ],
   "source": [
    "#include <stdio.h>\n",
    "\n",
    "void func1(void);\n",
    "\n",
    "static int count=10;\n",
    "\n",
    "int main(){\n",
    "    while(count--){\n",
    "        func1();\n",
    "    }\n",
    "    return 0;\n",
    "}\n",
    "\n",
    "void func1(void){\n",
    "    static int thingy=5;\n",
    "    thingy++;\n",
    "    printf(\" thingy 为 %d, count 为 %d\\n\",thingy,count);\n",
    "}\n",
    "\n",
    "/*\n",
    "1.count作为全局变量可以在函数中使用\n",
    "2.thingy使用static修饰后，不会每次调用时重置。\n",
    "*/"
   ]
  },
  {
   "cell_type": "markdown",
   "metadata": {},
   "source": [
    "五、运算符\n",
    "- 算术运算符：+, -, * , /, %, ++, --\n",
    "- 关系运算符：==, !=, >, <, >=, <=\n",
    "- 逻辑运算符：&&（与）, ||（或）, !（非）\n",
    "- 位运算符：&, |, ^, ~, <<, >>\n",
    "- 赋值运算符：=, +=, -=, *=, /=, %=, <<=, >>=, &=, ^=, |=\n",
    "- 杂项运算符：\n",
    "  - sizeof()    返回变量的大小\n",
    "  - &           返回变量的地址\n",
    "  - *（指向一个变量）\n",
    "  - ?:          条件表达式"
   ]
  },
  {
   "cell_type": "code",
   "execution_count": 3,
   "metadata": {},
   "outputs": [
    {
     "name": "stdout",
     "output_type": "stream",
     "text": [
      "变量a的大小：4\n",
      "a的值是 4\n",
      "*ptr是 4\n",
      "b的值是 30\n"
     ]
    }
   ],
   "source": [
    "#include <stdio.h>\n",
    "\n",
    "int main(){\n",
    "    int a=4;\n",
    "    short b;\n",
    "    double c;\n",
    "    int* ptr;\n",
    "\n",
    "    printf(\"变量a的大小：%lu\\n\",sizeof(a));\n",
    "\n",
    "    ptr=&a;\n",
    "    printf(\"a的值是 %d\\n\",a);\n",
    "    printf(\"*ptr是 %d\\n\",*ptr);\n",
    "\n",
    "    a=10;\n",
    "    b=(a==1)? 20:30;\n",
    "    printf(\"b的值是 %d\\n\",b);\n",
    "\n",
    "    return 0;\n",
    "\n",
    "}"
   ]
  },
  {
   "cell_type": "markdown",
   "metadata": {},
   "source": [
    "六、判断\n",
    "- 判断语句\n",
    "- ?:运算符"
   ]
  },
  {
   "cell_type": "code",
   "execution_count": 1,
   "metadata": {},
   "outputs": [
    {
     "name": "stdout",
     "output_type": "stream",
     "text": [
      "偶数"
     ]
    }
   ],
   "source": [
    "#include<stdio.h>\n",
    "\n",
    "int main(){\n",
    "    int num=2;\n",
    "    (num%2==0)? printf(\"偶数\"):printf(\"奇数\");\n",
    "    return 0;\n",
    "}"
   ]
  },
  {
   "cell_type": "markdown",
   "metadata": {},
   "source": []
  },
  {
   "cell_type": "markdown",
   "metadata": {},
   "source": [
    "七、循环"
   ]
  },
  {
   "cell_type": "code",
   "execution_count": 3,
   "metadata": {},
   "outputs": [
    {
     "name": "stdout",
     "output_type": "stream",
     "text": [
      "a的值：10\n",
      "a的值：11\n",
      "a的值：12\n",
      "a的值：13\n",
      "a的值：14\n",
      "a的值：15\n",
      "a的值：16\n",
      "a的值：17\n",
      "a的值：18\n",
      "a的值：19\n"
     ]
    }
   ],
   "source": [
    "#include <stdio.h>\n",
    "\n",
    "int main(){\n",
    "    for(int a=10;a<20;a=a+1){\n",
    "        printf(\"a的值：%d\\n\",a);\n",
    "    }\n",
    "}"
   ]
  },
  {
   "cell_type": "markdown",
   "metadata": {},
   "source": [
    "八、函数"
   ]
  },
  {
   "cell_type": "code",
   "execution_count": 7,
   "metadata": {},
   "outputs": [],
   "source": [
    "#include <stdio.h>\n",
    "\n",
    "int max(int num1,int num2);\n",
    "\n",
    "int main(){\n",
    "    int a=100;\n",
    "    int b=200;\n",
    "    int ret;\n",
    "    ret=max(a,b);\n",
    "    printf(\"最大的值为:%d\\n\",ret);\n",
    "    return 0;\n",
    "}\n",
    "\n",
    "int max(int num1,int num2){\n",
    "    int result;\n",
    "    if(num1>num2){\n",
    "        result=num1;\n",
    "    }\n",
    "    else {\n",
    "        result=num2;\n",
    "    }\n",
    "    return result;\n",
    "}"
   ]
  },
  {
   "cell_type": "markdown",
   "metadata": {},
   "source": [
    "八、作用域规则\n",
    "- 局部变量\n",
    "- 全局变量\n",
    "- 形式参数"
   ]
  },
  {
   "cell_type": "code",
   "execution_count": 8,
   "metadata": {},
   "outputs": [
    {
     "name": "stdout",
     "output_type": "stream",
     "text": [
      "value of a in main() = 10\n",
      "value of a in sum() = 10\n",
      "value of b in sum() = 20\n",
      "value of c in main() = 30\n"
     ]
    }
   ],
   "source": [
    "#include <stdio.h>\n",
    "int a=20;\n",
    "\n",
    "int main(){\n",
    "    int a=10;\n",
    "    int b=20;\n",
    "    int c=0;\n",
    "    int sum(int,int);\n",
    "\n",
    "    printf(\"value of a in main() = %d\\n\",a);\n",
    "    c=sum(a,b);\n",
    "    printf(\"value of c in main() = %d\\n\",c);\n",
    "    return 0;\n",
    "}\n",
    "\n",
    "int sum(int a,int b){\n",
    "    printf(\"value of a in sum() = %d\\n\",a);\n",
    "    printf(\"value of b in sum() = %d\\n\",b);\n",
    "    return a+b;\n",
    "}"
   ]
  },
  {
   "cell_type": "markdown",
   "metadata": {},
   "source": [
    "九、数组"
   ]
  },
  {
   "cell_type": "code",
   "execution_count": 9,
   "metadata": {},
   "outputs": [
    {
     "name": "stdout",
     "output_type": "stream",
     "text": [
      "Element[0]=100\n",
      "Element[1]=101\n",
      "Element[2]=102\n",
      "Element[3]=103\n",
      "Element[4]=104\n",
      "Element[5]=105\n",
      "Element[6]=106\n",
      "Element[7]=107\n",
      "Element[8]=108\n",
      "Element[9]=109\n"
     ]
    }
   ],
   "source": [
    "#include <stdio.h>\n",
    "\n",
    "int main(){\n",
    "    int n[10];\n",
    "    int i,j;\n",
    "\n",
    "    for(i=0;i<10;i++){\n",
    "        n[i]=i+100;\n",
    "    }\n",
    "\n",
    "    for(j=0;j<10;j++){\n",
    "        printf(\"Element[%d]=%d\\n\",j,n[j]);\n",
    "    }\n",
    "    \n",
    "    return 0;\n",
    "}"
   ]
  },
  {
   "cell_type": "markdown",
   "metadata": {},
   "source": [
    "十、枚举"
   ]
  },
  {
   "cell_type": "code",
   "execution_count": 11,
   "metadata": {},
   "outputs": [
    {
     "name": "stdout",
     "output_type": "stream",
     "text": [
      "3"
     ]
    }
   ],
   "source": [
    "# include <stdio.h>\n",
    "\n",
    "enum DAY{\n",
    "    MON=1,TUE,WED,THU,FRI,SAT,SUM\n",
    "};\n",
    "\n",
    "int main(){\n",
    "    enum DAY day;\n",
    "    day=WED;\n",
    "    printf(\"%d\",day);\n",
    "    return 0;\n",
    "}"
   ]
  },
  {
   "cell_type": "code",
   "execution_count": 13,
   "metadata": {},
   "outputs": [
    {
     "name": "stdout",
     "output_type": "stream",
     "text": [
      "枚举元素:1\n",
      "枚举元素:2\n",
      "枚举元素:3\n",
      "枚举元素:4\n",
      "枚举元素:5\n",
      "枚举元素:6\n"
     ]
    }
   ],
   "source": [
    "#include <stdio.h>\n",
    "\n",
    "enum DAY{\n",
    "    MON=1,TUE,WED,THU,FRI,SAT,SUM\n",
    "}day;\n",
    "\n",
    "int main(){\n",
    "    for(day=MON;day<=SAT;day++){\n",
    "        printf(\"枚举元素:%d\\n\",day);\n",
    "    }\n",
    "}"
   ]
  },
  {
   "cell_type": "markdown",
   "metadata": {},
   "source": []
  }
 ],
 "metadata": {
  "interpreter": {
   "hash": "6eb354bafeadca4d005eaf940a9d5109f9687c5d3a9fde0e972a1cba37ca98b9"
  },
  "kernelspec": {
   "display_name": "C",
   "language": "c",
   "name": "c"
  },
  "language_info": {
   "file_extension": ".c",
   "mimetype": "text/plain",
   "name": "c"
  },
  "orig_nbformat": 4
 },
 "nbformat": 4,
 "nbformat_minor": 2
}
