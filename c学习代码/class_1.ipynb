{
 "cells": [
  {
   "cell_type": "markdown",
   "metadata": {},
   "source": [
    "- [一、数据类型](#1)\n",
    "- [二、变量](#2)"
   ]
  },
  {
   "cell_type": "markdown",
   "metadata": {},
   "source": [
    "<a name='1'></a>\n",
    "一、数据类型\n",
    "- 基本类型：\n",
    "  - 整数类型: char, unsigned char, signed char, int, unsigned int, short, unsigned short, long, unsigned long\n",
    "  - 浮点类型: float, double, long double\n",
    "- 枚举类型\n",
    "- void类型\n",
    "- 派生类型：指针类型，数组类型，结构类型，共用体类型，函数类型"
   ]
  },
  {
   "cell_type": "code",
   "execution_count": 5,
   "metadata": {},
   "outputs": [
    {
     "name": "stdout",
     "output_type": "stream",
     "text": [
      "int 存储大小: 4 \n",
      "float 存储大小: 4 \n",
      "float 最大值: 3.402823E+38 \n"
     ]
    }
   ],
   "source": [
    "#include <stdio.h>\n",
    "#include <float.h>\n",
    "#include <limits.h>\n",
    "\n",
    "int main(){\n",
    "    printf(\"int 存储大小: %lu \\n\",sizeof(int));\n",
    "    printf(\"float 存储大小: %lu \\n\",sizeof(float));\n",
    "    printf(\"float 最大值: %E \\n\",FLT_MAX);\n",
    "    return 0;\n",
    "}"
   ]
  },
  {
   "cell_type": "markdown",
   "metadata": {},
   "source": [
    "<a name='2'></a>\n",
    "二、变量\n",
    "- 基本变量类型\n",
    "  - char: 8字节\n",
    "  - int: 4字节\n",
    "  - float: 单精度浮点值\n",
    "  - double：双精度浮点值\n",
    "  - void: 表示类型的缺失\n",
    "- 变量声明\n",
    "  - 一种是需要建立存储空间的 e.g., [int i;][声明也是定义]\n",
    "  - 使用extern关键词声明变量名而不定义它 e.g., [extern int i;][声明，不是定义]"
   ]
  },
  {
   "cell_type": "code",
   "execution_count": 7,
   "metadata": {},
   "outputs": [
    {
     "name": "stdout",
     "output_type": "stream",
     "text": [
      "result为: 3"
     ]
    }
   ],
   "source": [
    "#include <stdio.h>\n",
    "\n",
    "//函数外定义x和y\n",
    "int x;\n",
    "int y;\n",
    "int addtwonum(){\n",
    "    //函数内声明变量x和y为外部变量\n",
    "    extern int x;\n",
    "    extern int y;\n",
    "    //给外部变量x和y赋值\n",
    "    x=1;\n",
    "    y=2;\n",
    "    return x+y;\n",
    "}\n",
    "\n",
    "int main(){\n",
    "    int result;\n",
    "    result=addtwonum();\n",
    "    printf(\"result为: %d\",result);\n",
    "    return 0;\n",
    "}\n"
   ]
  },
  {
   "cell_type": "markdown",
   "metadata": {},
   "source": [
    "三、常量\n",
    "- 常量类型\n",
    "  - 整数常量\n",
    "  - 浮点常量\n",
    "  - 字符常量\n",
    "  - 字符串常量\n",
    "  - 枚举常量\n",
    "- 定义常量的方法\n",
    "  - #define预处理器\n",
    "  - const关键字"
   ]
  },
  {
   "cell_type": "code",
   "execution_count": 10,
   "metadata": {},
   "outputs": [
    {
     "name": "stdout",
     "output_type": "stream",
     "text": [
      "value of area: 50\n",
      "value of area_: 50\n"
     ]
    }
   ],
   "source": [
    "#include <stdio.h>\n",
    "\n",
    "#define LEGTH 10\n",
    "#define WIDTH 5\n",
    "#define NEWLINE '\\n'\n",
    "\n",
    "int main(){\n",
    "    int area;\n",
    "    area=LEGTH*WIDTH;\n",
    "    printf(\"value of area: %d\",area);\n",
    "    printf(\"%c\",NEWLINE);\n",
    "\n",
    "    const int length=10;\n",
    "    const int width=5;\n",
    "    const char newline='\\n';\n",
    "    int area_;\n",
    "    area_=length*width;\n",
    "    printf(\"value of area_: %d\",area_);\n",
    "    printf(\"%c\",newline);\n",
    "    return 0;\n",
    "}"
   ]
  },
  {
   "cell_type": "markdown",
   "metadata": {},
   "source": [
    "四、存储类\n",
    "- 存储类定义C程序中变量/函数的范围和生命周期\n",
    "- 类型\n",
    "  - auto: 所有局部变量默认的存储类\n",
    "  - register: 用于定义存储在寄存器中而不是RAM中的局部变量\n",
    "  - static\n",
    "  - extern: 用于提供一个全局变量的引用"
   ]
  },
  {
   "cell_type": "code",
   "execution_count": 12,
   "metadata": {},
   "outputs": [
    {
     "name": "stdout",
     "output_type": "stream",
     "text": [
      " thingy 为 6, count 为 9\n",
      " thingy 为 7, count 为 8\n",
      " thingy 为 8, count 为 7\n",
      " thingy 为 9, count 为 6\n",
      " thingy 为 10, count 为 5\n",
      " thingy 为 11, count 为 4\n",
      " thingy 为 12, count 为 3\n",
      " thingy 为 13, count 为 2\n",
      " thingy 为 14, count 为 1\n",
      " thingy 为 15, count 为 0\n"
     ]
    }
   ],
   "source": [
    "#include <stdio.h>\n",
    "\n",
    "void func1(void);\n",
    "\n",
    "static int count=10;\n",
    "\n",
    "int main(){\n",
    "    while(count--){\n",
    "        func1();\n",
    "    }\n",
    "    return 0;\n",
    "}\n",
    "\n",
    "void func1(void){\n",
    "    static int thingy=5;\n",
    "    thingy++;\n",
    "    printf(\" thingy 为 %d, count 为 %d\\n\",thingy,count);\n",
    "}\n",
    "\n",
    "/*\n",
    "1.count作为全局变量可以在函数中使用\n",
    "2.thingy使用static修饰后，不会每次调用时重置。\n",
    "*/"
   ]
  },
  {
   "cell_type": "markdown",
   "metadata": {},
   "source": [
    "五、运算符\n",
    "- 算术运算符：+, -, * , /, %, ++, --\n",
    "- 关系运算符：==, !=, >, <, >=, <=\n",
    "- 逻辑运算符：&&（与）, ||（或）, !（非）\n",
    "- 位运算符：&, |, ^, ~, <<, >>\n",
    "- 赋值运算符：=, +=, -=, *=, /=, %=, <<=, >>=, &=, ^=, |=\n",
    "- 杂项运算符：\n",
    "  - sizeof()    返回变量的大小\n",
    "  - &           返回变量的地址\n",
    "  - *（指向一个变量）\n",
    "  - ?:          条件表达式"
   ]
  },
  {
   "cell_type": "code",
   "execution_count": 3,
   "metadata": {},
   "outputs": [
    {
     "name": "stdout",
     "output_type": "stream",
     "text": [
      "变量a的大小：4\n",
      "a的值是 4\n",
      "*ptr是 4\n",
      "b的值是 30\n"
     ]
    }
   ],
   "source": [
    "#include <stdio.h>\n",
    "\n",
    "int main(){\n",
    "    int a=4;\n",
    "    short b;\n",
    "    double c;\n",
    "    int* ptr;\n",
    "\n",
    "    printf(\"变量a的大小：%lu\\n\",sizeof(a));\n",
    "\n",
    "    ptr=&a;\n",
    "    printf(\"a的值是 %d\\n\",a);\n",
    "    printf(\"*ptr是 %d\\n\",*ptr);\n",
    "\n",
    "    a=10;\n",
    "    b=(a==1)? 20:30;\n",
    "    printf(\"b的值是 %d\\n\",b);\n",
    "\n",
    "    return 0;\n",
    "\n",
    "}"
   ]
  },
  {
   "cell_type": "markdown",
   "metadata": {},
   "source": [
    "六、判断\n",
    "- 判断语句\n",
    "- ?:运算符"
   ]
  },
  {
   "cell_type": "code",
   "execution_count": 1,
   "metadata": {},
   "outputs": [
    {
     "name": "stdout",
     "output_type": "stream",
     "text": [
      "偶数"
     ]
    }
   ],
   "source": [
    "#include<stdio.h>\n",
    "\n",
    "int main(){\n",
    "    int num=2;\n",
    "    (num%2==0)? printf(\"偶数\"):printf(\"奇数\");\n",
    "    return 0;\n",
    "}"
   ]
  },
  {
   "cell_type": "markdown",
   "metadata": {},
   "source": []
  },
  {
   "cell_type": "markdown",
   "metadata": {},
   "source": [
    "七、循环"
   ]
  },
  {
   "cell_type": "code",
   "execution_count": 3,
   "metadata": {},
   "outputs": [
    {
     "name": "stdout",
     "output_type": "stream",
     "text": [
      "a的值：10\n",
      "a的值：11\n",
      "a的值：12\n",
      "a的值：13\n",
      "a的值：14\n",
      "a的值：15\n",
      "a的值：16\n",
      "a的值：17\n",
      "a的值：18\n",
      "a的值：19\n"
     ]
    }
   ],
   "source": [
    "#include <stdio.h>\n",
    "\n",
    "int main(){\n",
    "    for(int a=10;a<20;a=a+1){\n",
    "        printf(\"a的值：%d\\n\",a);\n",
    "    }\n",
    "}"
   ]
  },
  {
   "cell_type": "markdown",
   "metadata": {},
   "source": [
    "八、函数"
   ]
  },
  {
   "cell_type": "code",
   "execution_count": 7,
   "metadata": {},
   "outputs": [],
   "source": [
    "#include <stdio.h>\n",
    "\n",
    "int max(int num1,int num2);\n",
    "\n",
    "int main(){\n",
    "    int a=100;\n",
    "    int b=200;\n",
    "    int ret;\n",
    "    ret=max(a,b);\n",
    "    printf(\"最大的值为:%d\\n\",ret);\n",
    "    return 0;\n",
    "}\n",
    "\n",
    "int max(int num1,int num2){\n",
    "    int result;\n",
    "    if(num1>num2){\n",
    "        result=num1;\n",
    "    }\n",
    "    else {\n",
    "        result=num2;\n",
    "    }\n",
    "    return result;\n",
    "}"
   ]
  },
  {
   "cell_type": "markdown",
   "metadata": {},
   "source": [
    "八、作用域规则\n",
    "- 局部变量\n",
    "- 全局变量\n",
    "- 形式参数"
   ]
  },
  {
   "cell_type": "code",
   "execution_count": 8,
   "metadata": {},
   "outputs": [
    {
     "name": "stdout",
     "output_type": "stream",
     "text": [
      "value of a in main() = 10\n",
      "value of a in sum() = 10\n",
      "value of b in sum() = 20\n",
      "value of c in main() = 30\n"
     ]
    }
   ],
   "source": [
    "#include <stdio.h>\n",
    "int a=20;\n",
    "\n",
    "int main(){\n",
    "    int a=10;\n",
    "    int b=20;\n",
    "    int c=0;\n",
    "    int sum(int,int);\n",
    "\n",
    "    printf(\"value of a in main() = %d\\n\",a);\n",
    "    c=sum(a,b);\n",
    "    printf(\"value of c in main() = %d\\n\",c);\n",
    "    return 0;\n",
    "}\n",
    "\n",
    "int sum(int a,int b){\n",
    "    printf(\"value of a in sum() = %d\\n\",a);\n",
    "    printf(\"value of b in sum() = %d\\n\",b);\n",
    "    return a+b;\n",
    "}"
   ]
  },
  {
   "cell_type": "markdown",
   "metadata": {},
   "source": [
    "九、数组"
   ]
  },
  {
   "cell_type": "code",
   "execution_count": 9,
   "metadata": {},
   "outputs": [
    {
     "name": "stdout",
     "output_type": "stream",
     "text": [
      "Element[0]=100\n",
      "Element[1]=101\n",
      "Element[2]=102\n",
      "Element[3]=103\n",
      "Element[4]=104\n",
      "Element[5]=105\n",
      "Element[6]=106\n",
      "Element[7]=107\n",
      "Element[8]=108\n",
      "Element[9]=109\n"
     ]
    }
   ],
   "source": [
    "#include <stdio.h>\n",
    "\n",
    "int main(){\n",
    "    int n[10];\n",
    "    int i,j;\n",
    "\n",
    "    for(i=0;i<10;i++){\n",
    "        n[i]=i+100;\n",
    "    }\n",
    "\n",
    "    for(j=0;j<10;j++){\n",
    "        printf(\"Element[%d]=%d\\n\",j,n[j]);\n",
    "    }\n",
    "    \n",
    "    return 0;\n",
    "}"
   ]
  },
  {
   "cell_type": "markdown",
   "metadata": {},
   "source": [
    "十、枚举"
   ]
  },
  {
   "cell_type": "code",
   "execution_count": 11,
   "metadata": {},
   "outputs": [
    {
     "name": "stdout",
     "output_type": "stream",
     "text": [
      "3"
     ]
    }
   ],
   "source": [
    "# include <stdio.h>\n",
    "\n",
    "enum DAY{\n",
    "    MON=1,TUE,WED,THU,FRI,SAT,SUM\n",
    "};\n",
    "\n",
    "int main(){\n",
    "    enum DAY day;\n",
    "    day=WED;\n",
    "    printf(\"%d\",day);\n",
    "    return 0;\n",
    "}"
   ]
  },
  {
   "cell_type": "code",
   "execution_count": 13,
   "metadata": {},
   "outputs": [
    {
     "name": "stdout",
     "output_type": "stream",
     "text": [
      "枚举元素:1\n",
      "枚举元素:2\n",
      "枚举元素:3\n",
      "枚举元素:4\n",
      "枚举元素:5\n",
      "枚举元素:6\n"
     ]
    }
   ],
   "source": [
    "#include <stdio.h>\n",
    "\n",
    "enum DAY{\n",
    "    MON=1,TUE,WED,THU,FRI,SAT,SUM\n",
    "}day;\n",
    "\n",
    "int main(){\n",
    "    for(day=MON;day<=SAT;day++){\n",
    "        printf(\"枚举元素:%d\\n\",day);\n",
    "    }\n",
    "}"
   ]
  },
  {
   "cell_type": "markdown",
   "metadata": {},
   "source": [
    "十一、指针\n",
    "- 指针也就是内存地址，指针变量是用来存放内存地址的变量\n",
    "- 使用指针的一般操作\n",
    "  - 定义一个指针变量\n",
    "  - 把变量地址赋值给指针\n",
    "  - 访问指针变量中可用地址的值"
   ]
  },
  {
   "cell_type": "code",
   "execution_count": 1,
   "metadata": {},
   "outputs": [
    {
     "name": "stdout",
     "output_type": "stream",
     "text": [
      "var_runoob变量的地址：0x7ff7ba230078\n"
     ]
    }
   ],
   "source": [
    "#include <stdio.h>\n",
    "\n",
    "int main(){\n",
    "    int var_runoob=10;\n",
    "    int *p;   //指针p的声明\n",
    "    p= &var_runoob;  //指针p存储的是var_runoob的地址\n",
    "\n",
    "    printf(\"var_runoob变量的地址：%p\\n\",p);\n",
    "    return 0;\n",
    "}"
   ]
  },
  {
   "cell_type": "code",
   "execution_count": 2,
   "metadata": {},
   "outputs": [
    {
     "name": "stdout",
     "output_type": "stream",
     "text": [
      "var 变量的地址：0x7ff7b47e7078\n",
      "ip 变量存储的地址：0x7ff7b47e7078\n",
      "*ip 变量的值：20\n"
     ]
    }
   ],
   "source": [
    "# include <stdio.h>\n",
    "\n",
    "int main(){\n",
    "    int var=20;   //实际变量的声明\n",
    "    int *ip;      //指针变量的声明\n",
    "\n",
    "    ip=&var;    //在指针变量中存储var的地址\n",
    "\n",
    "    printf(\"var 变量的地址：%p\\n\",&var);\n",
    "    \n",
    "    printf(\"ip 变量存储的地址：%p\\n\",ip);\n",
    "\n",
    "    printf(\"*ip 变量的值：%d\\n\",*ip);\n",
    "\n",
    "    return 0;\n",
    "\n",
    "}"
   ]
  },
  {
   "cell_type": "code",
   "execution_count": 5,
   "metadata": {},
   "outputs": [
    {
     "name": "stdout",
     "output_type": "stream",
     "text": [
      "prt 的地址为 0x0\n"
     ]
    }
   ],
   "source": [
    "#include <stdio.h>\n",
    " \n",
    "int main ()\n",
    "{\n",
    "   int *ptr=NULL;\n",
    "   printf(\"prt 的地址为 %p\\n\",ptr);\n",
    "   return 0;\n",
    "}"
   ]
  },
  {
   "cell_type": "code",
   "execution_count": 6,
   "metadata": {},
   "outputs": [
    {
     "name": "stdout",
     "output_type": "stream",
     "text": [
      "存储地址：var[0] = 0x7ff7b379506c\n",
      "存储值：var[0] = 10\n",
      "存储地址：var[1] = 0x7ff7b3795070\n",
      "存储值：var[1] = 100\n",
      "存储地址：var[2] = 0x7ff7b3795074\n",
      "存储值：var[2] = 200\n"
     ]
    }
   ],
   "source": [
    "/*\n",
    "递增一个指针\n",
    "*/\n",
    "#include <stdio.h>\n",
    "\n",
    "const int MAX=3;\n",
    "\n",
    "int main(){\n",
    "    int var[]={10,100,200};\n",
    "    int i,*ptr;\n",
    "\n",
    "    ptr=var;  //指针中的数组地址\n",
    "    for(i=0;i<MAX;i++){\n",
    "        printf(\"存储地址：var[%d] = %p\\n\",i,ptr);\n",
    "        printf(\"存储值：var[%d] = %d\\n\",i,*ptr);\n",
    "        ptr++; //指向下一个位置\n",
    "    }\n",
    "    return 0;\n",
    "}"
   ]
  },
  {
   "cell_type": "code",
   "execution_count": 11,
   "metadata": {},
   "outputs": [
    {
     "name": "stdout",
     "output_type": "stream",
     "text": [
      "存储地址：var[2] = 0x7ff7b96db074\n",
      "存储值：var[2] = 200\n",
      "存储地址：var[1] = 0x7ff7b96db070\n",
      "存储值：var[1] = 100\n",
      "存储地址：var[0] = 0x7ff7b96db06c\n",
      "存储值：var[0] = 10\n"
     ]
    }
   ],
   "source": [
    "/*\n",
    "递减一个指针\n",
    "*/\n",
    "#include <stdio.h>\n",
    "const int MAX=3;\n",
    "\n",
    "int main(){\n",
    "    int var[] ={10,100,200};\n",
    "    int i,*ptr;\n",
    "    ptr=&var[MAX-1];\n",
    "    for(i=MAX;i>0;i--){\n",
    "        printf(\"存储地址：var[%d] = %p\\n\",i-1,ptr);\n",
    "        printf(\"存储值：var[%d] = %d\\n\",i-1,*ptr);\n",
    "        ptr--;\n",
    "    }\n",
    "    return 0;\n",
    "}"
   ]
  },
  {
   "cell_type": "code",
   "execution_count": 13,
   "metadata": {},
   "outputs": [
    {
     "name": "stdout",
     "output_type": "stream",
     "text": [
      "存储地址：var[0] = 0x7ff7b096c06c\n",
      "存储值：var[0] = 10\n",
      "存储地址：var[1] = 0x7ff7b096c070\n",
      "存储值：var[1] = 100\n",
      "存储地址：var[2] = 0x7ff7b096c074\n",
      "存储值：var[2] = 200\n"
     ]
    }
   ],
   "source": [
    "/*\n",
    "指针的比较\n",
    "*/\n",
    "\n",
    "#include <stdio.h>\n",
    "\n",
    "const int MAX=3;\n",
    "\n",
    "int main(){\n",
    "    int var[]={10,100,200};\n",
    "    int i,*ptr;\n",
    "    ptr=var;\n",
    "    i=0;\n",
    "    while(ptr<=&var[MAX-1]){\n",
    "        printf(\"存储地址：var[%d] = %p\\n\",i,ptr);\n",
    "        printf(\"存储值：var[%d] = %d\\n\",i,*ptr);\n",
    "        ptr++;\n",
    "        i++;\n",
    "    }\n",
    "    return 0;\n",
    "}   "
   ]
  },
  {
   "cell_type": "code",
   "execution_count": 15,
   "metadata": {},
   "outputs": [
    {
     "name": "stdout",
     "output_type": "stream",
     "text": [
      "value of var[0] = 10\n",
      "value of var[1] = 100\n",
      "value of var[2] = 200\n"
     ]
    }
   ],
   "source": [
    "/*\n",
    "指针数组:demo1\n",
    "*/\n",
    "#include <stdio.h>\n",
    "\n",
    "const int MAX=3;\n",
    "\n",
    "int main(){\n",
    "    int var[]={10,100,200};\n",
    "    int i,*ptr[MAX];\n",
    "    for(i=0;i<MAX;i++){\n",
    "        ptr[i]=&var[i];   //赋值为整数的地址\n",
    "    }\n",
    "    for(i=0;i<MAX;i++){\n",
    "        printf(\"value of var[%d] = %d\\n\",i,*ptr[i]);\n",
    "    }\n",
    "    return 0;\n",
    "}"
   ]
  },
  {
   "cell_type": "code",
   "execution_count": 16,
   "metadata": {},
   "outputs": [
    {
     "name": "stdout",
     "output_type": "stream",
     "text": [
      "value of names[0] = A\n",
      "value of names[1] = B\n",
      "value of names[2] = C\n",
      "value of names[3] = D\n"
     ]
    }
   ],
   "source": [
    "/*\n",
    "指针数组:demo2\n",
    "    用一个指向字符的指针数组来存储一个字符串列表\n",
    "*/\n",
    "#include <stdio.h>\n",
    "\n",
    "const int MAX=4;\n",
    "\n",
    "int main(){\n",
    "    const char *names[]={\n",
    "        \"A\",\n",
    "        \"B\",\n",
    "        \"C\",\n",
    "        \"D\",\n",
    "    };\n",
    "    int i=0;\n",
    "\n",
    "    for(i=0;i<MAX;i++){\n",
    "        printf(\"value of names[%d] = %s\\n\",i,names[i]);\n",
    "    }\n",
    "    return 0;\n",
    "}"
   ]
  },
  {
   "cell_type": "code",
   "execution_count": 24,
   "metadata": {},
   "outputs": [
    {
     "name": "stdout",
     "output_type": "stream",
     "text": [
      "var = 100\n",
      "pt1 = 0x7ff7b468d078\n",
      "*pt1 = 100\n",
      "pt2 = 0x7ff7b468d070\n",
      "*pt2 = 0x7ff7b468d070\n",
      "**pt2 = 100\n"
     ]
    }
   ],
   "source": [
    "/*\n",
    "指向指针的指针\n",
    "*/\n",
    "#include <stdio.h>\n",
    "\n",
    "int main(){\n",
    "    int V;\n",
    "    int *pt1;\n",
    "    int **pt2;\n",
    "    V=100;\n",
    "    pt1=&V;\n",
    "    pt2=&pt1;\n",
    "\n",
    "    printf(\"var = %d\\n\",V);\n",
    "    printf(\"pt1 = %p\\n\",pt1);\n",
    "    printf(\"*pt1 = %d\\n\",*pt1);\n",
    "    printf(\"pt2 = %p\\n\",pt2);\n",
    "    printf(\"*pt2 = %p\\n\",pt2);\n",
    "    printf(\"**pt2 = %d\\n\",**pt2);\n",
    "    \n",
    "    return 0;\n",
    "}"
   ]
  },
  {
   "cell_type": "code",
   "execution_count": 25,
   "metadata": {},
   "outputs": [
    {
     "name": "stdout",
     "output_type": "stream",
     "text": [
      "number of seconds: 1649164635"
     ]
    }
   ],
   "source": [
    "/*\n",
    "传递指针给函数：demo1\n",
    "    传递一个无符号的long型指针给函数，并在函数内改变这个值。\n",
    "*/\n",
    "\n",
    "#include <stdio.h>\n",
    "#include <time.h>\n",
    "\n",
    "void getSeconds(unsigned long *par);\n",
    "\n",
    "int main(){\n",
    "    unsigned long sec;\n",
    "    getSeconds(&sec);\n",
    "    printf(\"number of seconds: %ld\",sec);\n",
    "    return 0;\n",
    "}\n",
    "\n",
    "void getSeconds(unsigned long *par){\n",
    "    *par=time(NULL);\n",
    "    return;\n",
    "}"
   ]
  },
  {
   "cell_type": "code",
   "execution_count": 28,
   "metadata": {},
   "outputs": [
    {
     "name": "stdout",
     "output_type": "stream",
     "text": [
      "average value is: 214.400000\n"
     ]
    }
   ],
   "source": [
    "/*\n",
    "传递指针给函数：demo2\n",
    "    能接受指针作为参数的函数，也能接受数组作为参数\n",
    "*/\n",
    "\n",
    "#include <stdio.h>\n",
    "\n",
    "double getAverage(int *arr, int size){\n",
    "    int i,sum=0;\n",
    "    double avg;\n",
    "    for(i=0;i<size;i++){\n",
    "        sum+=arr[i];\n",
    "    }\n",
    "    avg=(double)sum/size;\n",
    "    return avg;\n",
    "}\n",
    "\n",
    "int main(){\n",
    "    int balance[5]={1000,2,3,17,50};\n",
    "    double avg;\n",
    "    avg=getAverage(balance,5);\n",
    "    printf(\"average value is: %f\\n\",avg);\n",
    "    return 0;\n",
    "}"
   ]
  },
  {
   "cell_type": "code",
   "execution_count": 30,
   "metadata": {},
   "outputs": [
    {
     "name": "stdout",
     "output_type": "stream",
     "text": [
      "2101887650\n",
      "319740400\n",
      "872818006\n",
      "2138917832\n",
      "2063235291\n",
      "1377087728\n",
      "1282180777\n",
      "1761405041\n",
      "872450192\n",
      "252035228\n",
      "*(p+[0]):2101887650\n",
      "*(p+[1]):319740400\n",
      "*(p+[2]):872818006\n",
      "*(p+[3]):2138917832\n",
      "*(p+[4]):2063235291\n",
      "*(p+[5]):1377087728\n",
      "*(p+[6]):1282180777\n",
      "*(p+[7]):1761405041\n",
      "*(p+[8]):872450192\n",
      "*(p+[9]):252035228\n"
     ]
    }
   ],
   "source": [
    "\n",
    "/*\n",
    "从函数返回指针\n",
    "    函数生成10个随机数，并使用表示指针的数组名（即第一个数组元素的地址）来返回他们\n",
    "*/\n",
    "#include <stdio.h>\n",
    "#include <time.h>\n",
    "#include <stdlib.h>\n",
    "\n",
    "int *getRandom(){\n",
    "    static int r[10];\n",
    "    int i;\n",
    "    srand((unsigned)time(NULL));\n",
    "    for(i=0;i<10;++i){\n",
    "        r[i]=rand();\n",
    "        printf(\"%d\\n\",r[i]);\n",
    "    }\n",
    "    return r;\n",
    "}\n",
    "int main(){\n",
    "    int *p;\n",
    "    int i;\n",
    "    p=getRandom();\n",
    "    for(i=0;i<10;i++){\n",
    "        printf(\"*(p+[%d]):%d\\n\",i,*(p+i));\n",
    "    }\n",
    "    return 0;\n",
    "}"
   ]
  },
  {
   "cell_type": "markdown",
   "metadata": {},
   "source": [
    "十二、函数指针与回调函数\n",
    "- 函数指针是指向函数的指针变量\n",
    "- 回调函数就是一个通过函数指针调用的函数（回调函数是用别人的函数执行时调用你实现的函数）"
   ]
  },
  {
   "cell_type": "code",
   "execution_count": 31,
   "metadata": {},
   "outputs": [
    {
     "name": "stdout",
     "output_type": "stream",
     "text": [
      "最大的数字是: 3\n"
     ]
    }
   ],
   "source": [
    "#include <stdio.h>\n",
    "\n",
    "int max(int x,int y){\n",
    "    return x>y ? x:y;\n",
    "}\n",
    "\n",
    "int main(void){\n",
    "    int (*p)(int,int)=&max; //&可以省略\n",
    "    int a,b,c,d;\n",
    "    a=1;\n",
    "    b=2;\n",
    "    c=3;\n",
    "\n",
    "    d=p(p(a,b),c);\n",
    "    printf(\"最大的数字是: %d\\n\",d);\n",
    "    return 0;\n",
    "}"
   ]
  },
  {
   "cell_type": "code",
   "execution_count": 32,
   "metadata": {},
   "outputs": [
    {
     "name": "stdout",
     "output_type": "stream",
     "text": [
      "16807 282475249 1622650073 984943658 1144108930 470211272 101027544 1457850878 1458777923 2007237709 \n"
     ]
    }
   ],
   "source": [
    "#include <stdlib.h>\n",
    "#include <stdio.h>\n",
    "\n",
    "//回调函数\n",
    "void populate_array(int *array,size_t arraySize,int (*getNextValue)(void)){\n",
    "    for(size_t i=0;i<arraySize;i++){\n",
    "        array[i]=getNextValue();\n",
    "    }\n",
    "}\n",
    "\n",
    "//获取随机值\n",
    "int getNextRandomValue(void){\n",
    "    return rand();\n",
    "}\n",
    "\n",
    "int main(void){\n",
    "    int myarray[10];\n",
    "    populate_array(myarray,10,getNextRandomValue); //getNextRandomValue不能加括号，因为加上括号之后相当于传入此参数时传入了int，而不是函数指针。\n",
    "    for(int i=0;i<10;i++){\n",
    "        printf(\"%d \",myarray[i]);\n",
    "    }\n",
    "    printf(\"\\n\");\n",
    "    return 0;\n",
    "}"
   ]
  },
  {
   "cell_type": "markdown",
   "metadata": {},
   "source": [
    "十三、字符串\n",
    "- 字符串是使用空字符\\0结尾的一维字符数组。\n",
    "- \\0是标记字符串的结束"
   ]
  },
  {
   "cell_type": "code",
   "execution_count": 3,
   "metadata": {},
   "outputs": [
    {
     "name": "stdout",
     "output_type": "stream",
     "text": [
      "段誉：dddy\n"
     ]
    }
   ],
   "source": [
    "#include <stdio.h>\n",
    "int main(){\n",
    "    char site[7] = {'d','d','d','y','\\0'};\n",
    "    printf(\"段誉：%s\\n\",site);\n",
    "    return 0;\n",
    "}"
   ]
  },
  {
   "cell_type": "code",
   "execution_count": 6,
   "metadata": {},
   "outputs": [
    {
     "name": "stdout",
     "output_type": "stream",
     "text": [
      "复制str1到str3：ddy\n",
      "连接str1和str2：ddyddy2\n",
      "连接后str1的长度：7\n"
     ]
    }
   ],
   "source": [
    "#include <stdio.h>\n",
    "#include <string.h>\n",
    "\n",
    "int main(){\n",
    "    char str1[14]=\"ddy\";\n",
    "    char str2[14]=\"ddy2\";\n",
    "    char str3[14];\n",
    "    int len;\n",
    "\n",
    "    //复制str1到str3;\n",
    "    strcpy(str3,str1);\n",
    "    printf(\"复制str1到str3：%s\\n\",str3);\n",
    "\n",
    "    //连接str1和str2;\n",
    "    strcat(str1,str2);\n",
    "    printf(\"连接str1和str2：%s\\n\",str1);\n",
    "\n",
    "    len=strlen(str1);\n",
    "    printf(\"连接后str1的长度：%d\\n\",len);\n",
    "\n",
    "    return 0;\n",
    "}"
   ]
  },
  {
   "cell_type": "markdown",
   "metadata": {},
   "source": [
    "十四、C结构体\n",
    "- &运算符放在结构体名称的前面\n",
    "- 使用->使用指向该结构的指针访问结构的成员"
   ]
  },
  {
   "cell_type": "code",
   "execution_count": 8,
   "metadata": {},
   "outputs": [
    {
     "name": "stdout",
     "output_type": "stream",
     "text": [
      "1.C语言\n",
      "2.python语言\n",
      "3.编程语言\n",
      "4.123\n"
     ]
    }
   ],
   "source": [
    "#include <stdio.h>\n",
    "\n",
    "struct Books{\n",
    "    char title[50];\n",
    "    char author[50];\n",
    "    char subject[100];\n",
    "    int book_id;\n",
    "}book ={\"C语言\",\"python语言\",\"编程语言\",123};\n",
    "\n",
    "int main(){\n",
    "    printf(\"1.%s\\n2.%s\\n3.%s\\n4.%d\\n\",book.title,book.author,book.subject,book.book_id);\n",
    "    return 0;\n",
    "}"
   ]
  },
  {
   "cell_type": "code",
   "execution_count": 10,
   "metadata": {},
   "outputs": [
    {
     "name": "stdout",
     "output_type": "stream",
     "text": [
      "book title: C Programming\n",
      "book author: Nuha Ali\n",
      "book title: Telecom Billing\n",
      "book author: Zara Ali\n"
     ]
    }
   ],
   "source": [
    "#include <stdio.h>\n",
    "#include <string.h>\n",
    "\n",
    "struct Books{\n",
    "    char title[50];\n",
    "    char author[50];\n",
    "    char subject[100];\n",
    "    int book_id;\n",
    "};\n",
    "\n",
    "void printBook(struct Books *book){\n",
    "    printf(\"book title: %s\\n\",book->title);\n",
    "    printf(\"book author: %s\\n\",book->author);\n",
    "}\n",
    "\n",
    "int main(){\n",
    "    struct Books Book1;\n",
    "    struct Books Book2;\n",
    "\n",
    "    /* Book1 详述 */\n",
    "   strcpy( Book1.title, \"C Programming\");\n",
    "   strcpy( Book1.author, \"Nuha Ali\"); \n",
    "   strcpy( Book1.subject, \"C Programming Tutorial\");\n",
    "   Book1.book_id = 6495407;\n",
    " \n",
    "   /* Book2 详述 */\n",
    "   strcpy( Book2.title, \"Telecom Billing\");\n",
    "   strcpy( Book2.author, \"Zara Ali\");\n",
    "   strcpy( Book2.subject, \"Telecom Billing Tutorial\");\n",
    "   Book2.book_id = 6495700;\n",
    "\n",
    "   printBook(&Book1);\n",
    "   printBook(&Book2);\n",
    "}"
   ]
  },
  {
   "cell_type": "markdown",
   "metadata": {},
   "source": [
    "十五、共用体\n",
    "- 共用体是一种特殊的数据类型，允许您在相同的内存位置存储不同的数据类型。\n",
    "- "
   ]
  },
  {
   "cell_type": "code",
   "execution_count": 12,
   "metadata": {},
   "outputs": [
    {
     "name": "stdout",
     "output_type": "stream",
     "text": [
      "data.i :10\n",
      "data.f:220.500000\n",
      "data.str:C Programming\n"
     ]
    }
   ],
   "source": [
    "#include <stdio.h>\n",
    "#include <string.h>\n",
    " \n",
    "union Data\n",
    "{\n",
    "   int i;\n",
    "   float f;\n",
    "   char  str[20];\n",
    "};\n",
    " \n",
    "int main( )\n",
    "{\n",
    "   union Data data;        \n",
    "\n",
    "    data.i=10;\n",
    "    printf(\"data.i :%d\\n\",data.i);\n",
    "    data.f=220.5;\n",
    "    printf(\"data.f:%f\\n\",data.f);\n",
    "    strcpy(data.str,\"C Programming\");\n",
    "    \n",
    "    printf(\"data.str:%s\\n\",data.str);\n",
    "   return 0;\n",
    "}"
   ]
  },
  {
   "cell_type": "markdown",
   "metadata": {},
   "source": [
    "十六、typedef\n",
    "- typedef可以用来为类型取一个新的名字\n",
    "- #define是C指令，用于为各种数据类型定义别名\n",
    "- "
   ]
  },
  {
   "cell_type": "code",
   "execution_count": 2,
   "metadata": {},
   "outputs": [
    {
     "name": "stdout",
     "output_type": "stream",
     "text": [
      "book title: C\n",
      "TRUE的值：1\n",
      "FALSE的值：0\n"
     ]
    }
   ],
   "source": [
    "#include <stdio.h>\n",
    "#include <string.h>\n",
    "\n",
    "#define TRUE 1\n",
    "#define FALSE 0\n",
    "\n",
    "typedef struct Books{\n",
    "    char title[50];\n",
    "    char author[50];\n",
    "    char subject[100];\n",
    "    int book_id;\n",
    "    }Book;\n",
    "\n",
    "int main(){\n",
    "    Book book;\n",
    "    strcpy(book.title,\"C\");\n",
    "    printf(\"book title: %s\\n\",book.title);\n",
    "\n",
    "    printf(\"TRUE的值：%d\\n\",TRUE);\n",
    "    printf(\"FALSE的值：%d\\n\",FALSE);\n",
    "\n",
    "    return 0;\n",
    "}"
   ]
  },
  {
   "cell_type": "markdown",
   "metadata": {},
   "source": [
    "十七、输入输出\n",
    "- getchar()，从屏幕读取下一个可用的字符，并把他返回为一个整数。\n",
    "- putchar()，把字符输出到屏幕上，并返回相同的字符。\n",
    "- gets()，从stdin读取一行到s所指向的缓冲区，直到一个终止符或EOF。\n",
    "- puts()，把字符串s和一个尾随的换行符写入到stdout。\n",
    "- scanf()，从标准输入流stdin读取输入，并根据提供的format来浏览输入\n",
    "- printf()，把输出写入到标准输出流stdout，并根据提供的格式产生输出\n",
    "- stdin，标准输入\n",
    "- stdout，标准输出"
   ]
  },
  {
   "cell_type": "code",
   "execution_count": null,
   "metadata": {},
   "outputs": [],
   "source": [
    "#include <stdio.h>\n",
    "\n",
    "int main(){\n",
    "    int c;\n",
    "    printf(\"enter a value:\");\n",
    "    c=getchar();\n",
    "    printf(\"\\n you entered: \");\n",
    "    putchar(c);\n",
    "    printf(\"\\n\");\n",
    "    return 0;\n",
    "}"
   ]
  },
  {
   "cell_type": "code",
   "execution_count": null,
   "metadata": {},
   "outputs": [],
   "source": [
    "#include <stdio.h>\n",
    "\n",
    "int main()\n",
    "{\n",
    "    char str[100];\n",
    "    printf(\"enter a value:\");\n",
    "    gets(str);\n",
    "    printf(\"\\n you entered:\");\n",
    "    puts(str);\n",
    "    return 0;\n",
    "}"
   ]
  },
  {
   "cell_type": "markdown",
   "metadata": {},
   "source": [
    "十八、文件读写\n",
    "- fopen():创建一个新的文件或者打开一个已有的文件\n",
    "  - r（只读）,w（只写）,a（追加）,r+（读写）,w+（读写）,a+（读写）\n",
    "- fclose(): 关闭文件，成功关闭，返回零，否则返回EOF\n",
    "- fputc(int c, FILE *fp):把参数c的字符值写入到fp所指向的输出流中\n",
    "- fgetc(char *buf, int n, FILE *fp):从fp所指向的输入文件中读取一个字符\n",
    "  - 从fp所指向的输入流中读取n-1个字符。它会把读取的字符串复制到缓冲区buf,并在最后追加一个null字符来终结字符串"
   ]
  },
  {
   "cell_type": "code",
   "execution_count": 1,
   "metadata": {},
   "outputs": [],
   "source": [
    "#include <stdio.h>\n",
    "int main(){\n",
    "    FILE *fp=NULL;\n",
    "    fp=fopen(\"test1.txt\",\"w+\");\n",
    "    fprintf(fp,\"this is testing for fprintf...\\n\");\n",
    "    fputs(\"this is testing for fputs...\\n\",fp);\n",
    "    fclose(fp);\n",
    "}"
   ]
  },
  {
   "cell_type": "code",
   "execution_count": 5,
   "metadata": {},
   "outputs": [
    {
     "name": "stdout",
     "output_type": "stream",
     "text": [
      "1: this\n",
      "2:  is testing for fprintf...\n",
      "\n",
      "3: this is testing for fputs...\n",
      "\n"
     ]
    }
   ],
   "source": [
    "#include <stdio.h>\n",
    "\n",
    "int main(){\n",
    "    FILE *fp=NULL;\n",
    "    char buff[255];\n",
    "    fp=fopen(\"test1.txt\",\"r\");\n",
    "    fscanf(fp,\"%s\",buff);\n",
    "    printf(\"1: %s\\n\",buff);\n",
    "\n",
    "    fgets(buff,255,(FILE*)fp);\n",
    "    printf(\"2: %s\\n\",buff);\n",
    "\n",
    "    fgets(buff,255,(FILE*)fp);\n",
    "    printf(\"3: %s\\n\",buff);\n",
    "    fclose(fp);\n",
    "}\n",
    "\n",
    "/*\n",
    "fscanf只读取了this，因为它在后边遇到了一个空格\n",
    "其次，调用fgets()读取剩余的部分，直到行尾\n",
    "最后，调用fgets\n",
    "*/"
   ]
  },
  {
   "cell_type": "markdown",
   "metadata": {},
   "source": [
    "十九、预处理器"
   ]
  },
  {
   "cell_type": "code",
   "execution_count": 9,
   "metadata": {},
   "outputs": [
    {
     "name": "stdout",
     "output_type": "stream",
     "text": [
      "File :/var/folders/qd/rry4jcq10l96jygvs311nts80000gn/T/tmp9w699laz.c\n",
      "Date :Apr 10 2022\n",
      "Time :22:38:11\n",
      "Line :7\n",
      "ANSI :1\n"
     ]
    }
   ],
   "source": [
    "#include <stdio.h>\n",
    "\n",
    "int main(){\n",
    "    printf(\"File :%s\\n\",__FILE__);\n",
    "    printf(\"Date :%s\\n\",__DATE__);\n",
    "    printf(\"Time :%s\\n\",__TIME__);\n",
    "    printf(\"Line :%d\\n\",__LINE__);\n",
    "    printf(\"ANSI :%d\\n\",__STDC__);\n",
    "    return 0;\n",
    "}\n"
   ]
  },
  {
   "cell_type": "code",
   "execution_count": 10,
   "metadata": {},
   "outputs": [
    {
     "name": "stdout",
     "output_type": "stream",
     "text": [
      "max between 20 and 10 is 20\n"
     ]
    }
   ],
   "source": [
    "#include <stdio.h>\n",
    "\n",
    "#define MAX(x,y) ((x)>(y)?(x):(y))\n",
    "\n",
    "int main(void){\n",
    "    printf(\"max between 20 and 10 is %d\\n\",MAX(10,20));\n",
    "    return 0;\n",
    "}\n"
   ]
  },
  {
   "cell_type": "markdown",
   "metadata": {},
   "source": [
    "二十、引入头文件"
   ]
  },
  {
   "cell_type": "code",
   "execution_count": 13,
   "metadata": {},
   "outputs": [
    {
     "name": "stderr",
     "output_type": "stream",
     "text": [
      "[C kernel] GCC exited with code 1, the executable will not be executed"
     ]
    }
   ],
   "source": [
    "int x;\n",
    "#include \"header.h\"\n",
    "\n",
    "int main(void){\n",
    "    puts(test());\n",
    "}"
   ]
  },
  {
   "cell_type": "markdown",
   "metadata": {},
   "source": [
    "二十一、强制类型转换"
   ]
  },
  {
   "cell_type": "code",
   "execution_count": 1,
   "metadata": {},
   "outputs": [
    {
     "name": "stdout",
     "output_type": "stream",
     "text": [
      "value of mean: 3.400000\n"
     ]
    }
   ],
   "source": [
    "#include <stdio.h>\n",
    "int main(){\n",
    "    int sum=17,count=5;\n",
    "    double mean;\n",
    "    mean=(double) sum/count;\n",
    "    printf(\"value of mean: %f\\n\",mean);\n",
    "}"
   ]
  },
  {
   "cell_type": "code",
   "execution_count": 2,
   "metadata": {},
   "outputs": [
    {
     "name": "stdout",
     "output_type": "stream",
     "text": [
      "value of sum: 116\n"
     ]
    }
   ],
   "source": [
    "#include <stdio.h>\n",
    "int main(){\n",
    "    int i=17;\n",
    "    char c='c';  //ascii的值为99\n",
    "    int sum;\n",
    "    sum=i+c;\n",
    "    printf(\"value of sum: %d\\n\",sum);\n",
    "}"
   ]
  },
  {
   "cell_type": "markdown",
   "metadata": {},
   "source": [
    "二十二、错误处理\n",
    "- perror():显示您传给它的字符串，后跟一个冒号，一个空格和当前error值的文本表示\n",
    "- strerrorr():返回一个指针，指针指向当前erron值的文本表示形式。"
   ]
  },
  {
   "cell_type": "code",
   "execution_count": 5,
   "metadata": {},
   "outputs": [
    {
     "name": "stderr",
     "output_type": "stream",
     "text": [
      "错误号：2\n",
      "通过perror输出错误: No such file or directory\n",
      "打开文件错误: No such file or directory\n"
     ]
    }
   ],
   "source": [
    "#include <stdio.h>\n",
    "#include <errno.h>\n",
    "#include <string.h>\n",
    "\n",
    "extern int errno;\n",
    "\n",
    "int main(){\n",
    "    FILE *pf;\n",
    "    int errnum;\n",
    "    pf=fopen(\"unexist.txt\",\"rb\");\n",
    "    if(pf==NULL){\n",
    "        errnum=errno;\n",
    "        fprintf(stderr,\"错误号：%d\\n\",errno);\n",
    "        perror(\"通过perror输出错误\");\n",
    "        fprintf(stderr,\"打开文件错误: %s\\n\",strerror(errnum));\n",
    "    }\n",
    "    else{\n",
    "        fclose(pf);\n",
    "    }\n",
    "    return 0;\n",
    "}"
   ]
  },
  {
   "cell_type": "code",
   "execution_count": 8,
   "metadata": {},
   "outputs": [
    {
     "name": "stderr",
     "output_type": "stream",
     "text": [
      "除数为0退出运行...\n",
      "[C kernel] Executable exited with code 255"
     ]
    }
   ],
   "source": [
    "#include <stdio.h>\n",
    "#include <stdlib.h>\n",
    "\n",
    "int main(){\n",
    "    int dividend=20;\n",
    "    int divisor=0;\n",
    "    int quotient;\n",
    "\n",
    "    if(divisor==0){\n",
    "        fprintf(stderr,\"除数为0退出运行...\\n\");\n",
    "        exit(-1);\n",
    "    }\n",
    "    quotient=dividend/divisor;\n",
    "    fprintf(stderr,\"quotient变量的值为: %d\\n\",quotient);\n",
    "    exit(0); \n",
    "}"
   ]
  },
  {
   "cell_type": "code",
   "execution_count": 9,
   "metadata": {},
   "outputs": [
    {
     "name": "stderr",
     "output_type": "stream",
     "text": [
      "quotient变量的值为: 4\n"
     ]
    }
   ],
   "source": [
    "#include <stdio.h>\n",
    "#include <stdlib.h>\n",
    "\n",
    "int main(){\n",
    "    int dividend=20;\n",
    "    int divisor=5;\n",
    "    int quotient;\n",
    "\n",
    "    if(divisor==0){\n",
    "        fprintf(stderr,\"除数为0退出运行...\\n\");\n",
    "        exit(EXIT_FAILURE);\n",
    "    }\n",
    "    quotient=dividend/divisor;\n",
    "    fprintf(stderr,\"quotient变量的值为: %d\\n\",quotient);\n",
    "    exit(EXIT_SUCCESS);\n",
    "}"
   ]
  },
  {
   "cell_type": "markdown",
   "metadata": {},
   "source": []
  }
 ],
 "metadata": {
  "interpreter": {
   "hash": "6eb354bafeadca4d005eaf940a9d5109f9687c5d3a9fde0e972a1cba37ca98b9"
  },
  "kernelspec": {
   "display_name": "C",
   "language": "c",
   "name": "c"
  },
  "language_info": {
   "file_extension": ".c",
   "mimetype": "text/plain",
   "name": "c"
  },
  "orig_nbformat": 4
 },
 "nbformat": 4,
 "nbformat_minor": 2
}
